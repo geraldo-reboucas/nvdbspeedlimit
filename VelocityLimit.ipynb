{
 "cells": [
  {
   "cell_type": "code",
   "execution_count": 12,
   "id": "672d22f2",
   "metadata": {},
   "outputs": [],
   "source": [
    "import nvdbapiv3 \n",
    "import geopandas as gpd\n",
    "import pandas as pd \n",
    "from shapely import wkt\n",
    "import matplotlib.pyplot as plt"
   ]
  },
  {
   "cell_type": "code",
   "execution_count": 2,
   "id": "5733baaf",
   "metadata": {},
   "outputs": [],
   "source": [
    "mySearchObject = nvdbapiv3.nvdbFagdata(105)"
   ]
  },
  {
   "cell_type": "code",
   "execution_count": 4,
   "id": "818ac320",
   "metadata": {},
   "outputs": [
    {
     "name": "stdout",
     "output_type": "stream",
     "text": [
      "nvdbFagdata: Søkeobjekt for vegobjekter fra NVDB api V3\n",
      "ObjektType: 105 Fartsgrense\n",
      "Filtere\n",
      "{}\n",
      "Parametre som styrer responsen:\n",
      "{\n",
      "    \"inkluder\": [\n",
      "        \"alle\"\n",
      "    ]\n",
      "}\n",
      "Statistikk fra NVDB api V3\n",
      "{\n",
      "    \"antall\": 912058,\n",
      "    \"lengde\": 247929778.667\n",
      "}\n",
      "Pagineringsinfo: Antall objekt i databuffer= 0\n",
      "{\n",
      "    \"antall\": 1000,\n",
      "    \"hvilken\": 0,\n",
      "    \"meredata\": true,\n",
      "    \"initielt\": true,\n",
      "    \"dummy\": false\n",
      "}\n"
     ]
    }
   ],
   "source": [
    "mySearchObject.info()"
   ]
  },
  {
   "cell_type": "markdown",
   "id": "0e0cca12",
   "metadata": {},
   "source": [
    "Converting to Pandas DataFrame "
   ]
  },
  {
   "cell_type": "code",
   "execution_count": 5,
   "id": "c513fd31",
   "metadata": {},
   "outputs": [
    {
     "name": "stdout",
     "output_type": "stream",
     "text": [
      "Eksport av 912058 objekter kommer til å ta tid...\n",
      "Objekt 1000 av 912058\n",
      "Objekt 5000 av 912058\n",
      "Objekt 10000 av 912058\n",
      "Objekt 20000 av 912058\n",
      "Objekt 30000 av 912058\n",
      "Objekt 40000 av 912058\n",
      "Objekt 50000 av 912058\n",
      "Objekt 60000 av 912058\n",
      "Objekt 70000 av 912058\n",
      "Objekt 80000 av 912058\n",
      "Objekt 90000 av 912058\n",
      "Objekt 100000 av 912058\n",
      "Objekt 110000 av 912058\n",
      "Objekt 120000 av 912058\n",
      "Objekt 130000 av 912058\n",
      "Objekt 140000 av 912058\n",
      "Objekt 150000 av 912058\n",
      "Objekt 160000 av 912058\n",
      "Objekt 170000 av 912058\n",
      "Objekt 180000 av 912058\n",
      "Objekt 190000 av 912058\n",
      "Objekt 200000 av 912058\n",
      "Objekt 210000 av 912058\n",
      "Objekt 220000 av 912058\n",
      "Objekt 230000 av 912058\n",
      "Objekt 240000 av 912058\n",
      "Objekt 250000 av 912058\n",
      "Objekt 260000 av 912058\n",
      "Objekt 270000 av 912058\n",
      "Objekt 280000 av 912058\n",
      "Objekt 290000 av 912058\n",
      "Objekt 300000 av 912058\n",
      "Objekt 310000 av 912058\n",
      "Objekt 320000 av 912058\n",
      "Objekt 330000 av 912058\n",
      "Objekt 340000 av 912058\n",
      "Objekt 350000 av 912058\n",
      "Objekt 360000 av 912058\n",
      "Objekt 370000 av 912058\n",
      "Objekt 380000 av 912058\n",
      "Objekt 390000 av 912058\n",
      "Objekt 400000 av 912058\n",
      "Objekt 410000 av 912058\n",
      "Objekt 420000 av 912058\n",
      "Objekt 430000 av 912058\n",
      "Objekt 440000 av 912058\n",
      "Objekt 450000 av 912058\n",
      "Objekt 460000 av 912058\n",
      "Objekt 470000 av 912058\n",
      "Objekt 480000 av 912058\n",
      "Objekt 490000 av 912058\n",
      "Objekt 500000 av 912058\n",
      "Objekt 510000 av 912058\n",
      "Objekt 520000 av 912058\n",
      "Objekt 530000 av 912058\n",
      "Objekt 540000 av 912058\n",
      "Objekt 550000 av 912058\n",
      "Objekt 560000 av 912058\n",
      "Objekt 570000 av 912058\n",
      "Objekt 580000 av 912058\n",
      "Objekt 590000 av 912058\n",
      "Objekt 600000 av 912058\n",
      "Objekt 610000 av 912058\n",
      "Objekt 620000 av 912058\n",
      "Objekt 630000 av 912058\n",
      "Objekt 640000 av 912058\n",
      "Objekt 650000 av 912058\n",
      "Objekt 660000 av 912058\n",
      "Objekt 670000 av 912058\n",
      "Objekt 680000 av 912058\n",
      "Objekt 690000 av 912058\n",
      "Objekt 700000 av 912058\n",
      "Objekt 710000 av 912058\n",
      "Objekt 720000 av 912058\n",
      "Objekt 730000 av 912058\n",
      "Objekt 740000 av 912058\n",
      "Objekt 750000 av 912058\n",
      "Objekt 760000 av 912058\n",
      "Objekt 770000 av 912058\n",
      "Objekt 780000 av 912058\n",
      "Objekt 790000 av 912058\n",
      "Objekt 800000 av 912058\n",
      "Objekt 810000 av 912058\n",
      "Objekt 820000 av 912058\n",
      "Objekt 830000 av 912058\n",
      "Objekt 840000 av 912058\n",
      "Objekt 850000 av 912058\n",
      "Objekt 860000 av 912058\n",
      "Objekt 870000 av 912058\n",
      "Objekt 880000 av 912058\n",
      "Objekt 890000 av 912058\n",
      "Objekt 900000 av 912058\n",
      "Objekt 910000 av 912058\n",
      "Manglende geometri-element for 2 vegobjekter fra dette søket\n",
      "nvdbFagdata: Søkeobjekt for vegobjekter fra NVDB api V3\n",
      "ObjektType: 105 Fartsgrense\n",
      "Filtere\n",
      "{}\n",
      "Parametre som styrer responsen:\n",
      "{\n",
      "    \"inkluder\": [\n",
      "        \"alle\"\n",
      "    ]\n",
      "}\n",
      "Statistikk fra NVDB api V3\n",
      "{\n",
      "    \"antall\": 912058,\n",
      "    \"lengde\": 247929778.667\n",
      "}\n",
      "Pagineringsinfo: Antall objekt i databuffer= 0\n",
      "{\n",
      "    \"antall\": 1000,\n",
      "    \"hvilken\": 1,\n",
      "    \"meredata\": false,\n",
      "    \"initielt\": false,\n",
      "    \"dummy\": false\n",
      "}\n",
      "fra miljø https://nvdbapiles-v3.atlas.vegvesen.no/\n"
     ]
    }
   ],
   "source": [
    "myDataFrame = pd.DataFrame( mySearchObject.to_records( ))"
   ]
  },
  {
   "cell_type": "markdown",
   "id": "dcf0a9f6",
   "metadata": {},
   "source": [
    "Converting to Geopandas Geodataframe"
   ]
  },
  {
   "cell_type": "code",
   "execution_count": 6,
   "id": "19cd6e26",
   "metadata": {},
   "outputs": [],
   "source": [
    "myDataFrame['geometry'] = myDataFrame['geometri'].apply( wkt.loads )\n",
    "myGDF = gpd.GeoDataFrame( myDataFrame, geometry='geometry', crs=5973 )"
   ]
  },
  {
   "cell_type": "markdown",
   "id": "e90acec5",
   "metadata": {},
   "source": [
    "Reprojecting into lon/lat coordinates (x,y). Note the axis order."
   ]
  },
  {
   "cell_type": "code",
   "execution_count": 7,
   "id": "b8a1b518",
   "metadata": {},
   "outputs": [],
   "source": [
    "myGDF = myGDF.to_crs( 'epsg:4326' )"
   ]
  },
  {
   "cell_type": "markdown",
   "id": "dfdac71b",
   "metadata": {},
   "source": [
    "Attribute naming, translating long Norwegian names into short (10char) English abbreviations. This 10 char limit is one of the curses of the shape file"
   ]
  },
  {
   "cell_type": "code",
   "execution_count": 8,
   "id": "ba19b3a0",
   "metadata": {},
   "outputs": [],
   "source": [
    "myGDF['SpeedLim'] = myGDF['Fartsgrense'] \n",
    "myGDF['RoadCat'] = myGDF['vegkategori'] \n",
    "myGDF['RoadNum'] = myGDF['vegkategori'] + myGDF['vegnummer'].astype(str) "
   ]
  },
  {
   "cell_type": "code",
   "execution_count": 9,
   "id": "8d4a78fe",
   "metadata": {},
   "outputs": [],
   "source": [
    "# These are linear references to the link sequences of NVDB, so that we can trace problems back to the NVDB network \n",
    "myGDF['linkID']  = myGDF['veglenkesekvensid']\n",
    "myGDF['linkFrom'] = myGDF['startposisjon']\n",
    "myGDF['linkTo']   = myGDF['sluttposisjon'] "
   ]
  },
  {
   "cell_type": "code",
   "execution_count": 10,
   "id": "213317df",
   "metadata": {},
   "outputs": [],
   "source": [
    "# We also include the ID and version number of the speed limit object in NVDB data base\n",
    "columns =  ['SpeedLim', 'RoadCat', 'RoadNum', 'linkID', 'linkFrom', 'linkTo', 'nvdbId', 'versjon', 'geometry']"
   ]
  },
  {
   "cell_type": "code",
   "execution_count": 11,
   "id": "c563343e",
   "metadata": {},
   "outputs": [
    {
     "name": "stdout",
     "output_type": "stream",
     "text": [
      "['objekttype', 'nvdbId', 'versjon', 'startdato', 'Fartsgrense', 'Gyldig fra dato', 'veglenkesekvensid', 'detaljnivå', 'typeVeg', 'kommune', 'fylke', 'vref', 'veglenkeType', 'vegkategori', 'fase', 'vegnummer', 'startposisjon', 'sluttposisjon', 'segmentlengde', 'adskilte_lop', 'trafikantgruppe', 'geometri', 'Vedtaksnummer', 'Arkivnummer', 'relasjoner', 'geometry', 'SpeedLim', 'RoadCat', 'RoadNum', 'linkID', 'linkFrom', 'linkTo']\n"
     ]
    }
   ],
   "source": [
    "print( list( myGDF.columns ) )"
   ]
  },
  {
   "cell_type": "code",
   "execution_count": 27,
   "id": "23fadf37",
   "metadata": {
    "scrolled": true
   },
   "outputs": [
    {
     "data": {
      "image/png": "[encoded data removed]",
      "text/plain": [
       "<Figure size 432x288 with 1 Axes>"
      ]
     },
     "metadata": {
      "needs_background": "light"
     },
     "output_type": "display_data"
    }
   ],
   "source": [
    "plt.plot(myGDF['startposisjon'])\n",
    "plt.show()"
   ]
  },
  {
   "cell_type": "code",
   "execution_count": 24,
   "id": "5939feb1",
   "metadata": {},
   "outputs": [
    {
     "data": {
      "text/plain": [
       "0          0.000000\n",
       "1          0.000000\n",
       "2          0.000000\n",
       "3          0.156665\n",
       "4          0.000000\n",
       "             ...   \n",
       "1048498    0.000000\n",
       "1048499    0.000000\n",
       "1048500    0.000000\n",
       "1048501    0.610509\n",
       "1048502    0.981364\n",
       "Name: startposisjon, Length: 1048503, dtype: float64"
      ]
     },
     "execution_count": 24,
     "metadata": {},
     "output_type": "execute_result"
    }
   ],
   "source": [
    "myGDF['startposisjon']"
   ]
  },
  {
   "cell_type": "code",
   "execution_count": 25,
   "id": "4f59f1fe",
   "metadata": {},
   "outputs": [
    {
     "name": "stderr",
     "output_type": "stream",
     "text": [
      "C:\\Users\\GeraldoFranciscodeSo\\anaconda3\\envs\\RoadData\\lib\\site-packages\\geopandas\\io\\file.py:299: FutureWarning: pandas.Int64Index is deprecated and will be removed from pandas in a future version. Use pandas.Index with the appropriate dtype instead.\n",
      "  pd.Int64Index,\n"
     ]
    }
   ],
   "source": [
    "# Writing data to esri shapefile\n",
    "myGDF[columns].to_file( 'nvdbspeedlimit.shp') "
   ]
  },
  {
   "cell_type": "code",
   "execution_count": null,
   "id": "3cffd5d8",
   "metadata": {},
   "outputs": [],
   "source": []
  }
 ],
 "metadata": {
  "kernelspec": {
   "display_name": "Python 3 (ipykernel)",
   "language": "python",
   "name": "python3"
  },
  "language_info": {
   "codemirror_mode": {
    "name": "ipython",
    "version": 3
   },
   "file_extension": ".py",
   "mimetype": "text/x-python",
   "name": "python",
   "nbconvert_exporter": "python",
   "pygments_lexer": "ipython3",
   "version": "3.9.13"
  }
 },
 "nbformat": 4,
 "nbformat_minor": 5
}
